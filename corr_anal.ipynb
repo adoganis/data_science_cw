{
 "cells": [
  {
   "cell_type": "code",
   "execution_count": 35,
   "metadata": {},
   "outputs": [
    {
     "data": {
      "text/html": [
       "<div>\n",
       "<style scoped>\n",
       "    .dataframe tbody tr th:only-of-type {\n",
       "        vertical-align: middle;\n",
       "    }\n",
       "\n",
       "    .dataframe tbody tr th {\n",
       "        vertical-align: top;\n",
       "    }\n",
       "\n",
       "    .dataframe thead th {\n",
       "        text-align: right;\n",
       "    }\n",
       "</style>\n",
       "<table border=\"1\" class=\"dataframe\">\n",
       "  <thead>\n",
       "    <tr style=\"text-align: right;\">\n",
       "      <th></th>\n",
       "      <th>stars</th>\n",
       "      <th>review_id</th>\n",
       "      <th>sentiment_class</th>\n",
       "      <th>neg</th>\n",
       "      <th>neu</th>\n",
       "      <th>pos</th>\n",
       "      <th>compound</th>\n",
       "    </tr>\n",
       "  </thead>\n",
       "  <tbody>\n",
       "    <tr>\n",
       "      <th>0</th>\n",
       "      <td>3.0</td>\n",
       "      <td>ZKvDG2sBvHVdF5oBNUOpAQ</td>\n",
       "      <td>negative</td>\n",
       "      <td>0.199</td>\n",
       "      <td>0.680</td>\n",
       "      <td>0.122</td>\n",
       "      <td>-0.8995</td>\n",
       "    </tr>\n",
       "    <tr>\n",
       "      <th>1</th>\n",
       "      <td>3.0</td>\n",
       "      <td>pUycOfUwM8vqX7KjRRhUEA</td>\n",
       "      <td>positive</td>\n",
       "      <td>0.015</td>\n",
       "      <td>0.752</td>\n",
       "      <td>0.233</td>\n",
       "      <td>0.9782</td>\n",
       "    </tr>\n",
       "    <tr>\n",
       "      <th>2</th>\n",
       "      <td>4.0</td>\n",
       "      <td>eCiWBf1CJ0Zdv1uVarEhhw</td>\n",
       "      <td>positive</td>\n",
       "      <td>0.000</td>\n",
       "      <td>0.746</td>\n",
       "      <td>0.254</td>\n",
       "      <td>0.9622</td>\n",
       "    </tr>\n",
       "    <tr>\n",
       "      <th>3</th>\n",
       "      <td>5.0</td>\n",
       "      <td>YbMyvlDA2W3Py5lTz8VK-A</td>\n",
       "      <td>positive</td>\n",
       "      <td>0.000</td>\n",
       "      <td>0.768</td>\n",
       "      <td>0.232</td>\n",
       "      <td>0.8655</td>\n",
       "    </tr>\n",
       "    <tr>\n",
       "      <th>4</th>\n",
       "      <td>5.0</td>\n",
       "      <td>L0jv8c2FbpWSlfNC6bbUEA</td>\n",
       "      <td>positive</td>\n",
       "      <td>0.000</td>\n",
       "      <td>0.719</td>\n",
       "      <td>0.281</td>\n",
       "      <td>0.9168</td>\n",
       "    </tr>\n",
       "  </tbody>\n",
       "</table>\n",
       "</div>"
      ],
      "text/plain": [
       "   stars               review_id sentiment_class    neg    neu    pos  \\\n",
       "0    3.0  ZKvDG2sBvHVdF5oBNUOpAQ        negative  0.199  0.680  0.122   \n",
       "1    3.0  pUycOfUwM8vqX7KjRRhUEA        positive  0.015  0.752  0.233   \n",
       "2    4.0  eCiWBf1CJ0Zdv1uVarEhhw        positive  0.000  0.746  0.254   \n",
       "3    5.0  YbMyvlDA2W3Py5lTz8VK-A        positive  0.000  0.768  0.232   \n",
       "4    5.0  L0jv8c2FbpWSlfNC6bbUEA        positive  0.000  0.719  0.281   \n",
       "\n",
       "   compound  \n",
       "0   -0.8995  \n",
       "1    0.9782  \n",
       "2    0.9622  \n",
       "3    0.8655  \n",
       "4    0.9168  "
      ]
     },
     "execution_count": 35,
     "metadata": {},
     "output_type": "execute_result"
    }
   ],
   "source": [
    "import json\n",
    "import pandas as pd\n",
    "\n",
    "# Load the data from the JSON file\n",
    "with open('sentiment_data.json') as f:\n",
    "    data = json.load(f)\n",
    "\n",
    "# Create a DataFrame from the data\n",
    "df = pd.DataFrame(data)\n",
    "\n",
    "# Apply the dictionary under 'sentiment scores' to create new columns\n",
    "df[['neg', 'neu', 'pos', 'compound']] = df['sentiment_scores'].apply(pd.Series)\n",
    "\n",
    "# Drop the 'sentiment scores' column\n",
    "df.drop('sentiment_scores', axis=1, inplace=True)\n",
    "\n",
    "# Print the DataFrame\n",
    "df.head()\n"
   ]
  },
  {
   "cell_type": "code",
   "execution_count": 36,
   "metadata": {},
   "outputs": [
    {
     "data": {
      "text/plain": [
       "1.0     42785\n",
       "2.0     23318\n",
       "3.0     28859\n",
       "4.0     63367\n",
       "5.0    189864\n",
       "Name: stars, dtype: int64"
      ]
     },
     "execution_count": 36,
     "metadata": {},
     "output_type": "execute_result"
    },
    {
     "data": {
      "image/png": "[encoded data removed]",
      "text/plain": [
       "<Figure size 640x480 with 1 Axes>"
      ]
     },
     "metadata": {},
     "output_type": "display_data"
    }
   ],
   "source": [
    "# plot the distribution of the star ratings, which are a categorica variable\n",
    "df['stars'].value_counts().sort_index().plot(kind='bar', title='Distribution of Star Ratings')\n",
    "\n",
    "# print the number of reviews for each star rating\n",
    "df['stars'].value_counts().sort_index()"
   ]
  },
  {
   "cell_type": "code",
   "execution_count": 39,
   "metadata": {},
   "outputs": [
    {
     "name": "stderr",
     "output_type": "stream",
     "text": [
      "/var/folders/d8/zh6815pd1j53q8hpl5px6f6r0000gn/T/ipykernel_56228/177221135.py:2: FutureWarning: The default value of numeric_only in DataFrame.corr is deprecated. In a future version, it will default to False. Select only valid columns or specify the value of numeric_only to silence this warning.\n",
      "  df.corr(method='spearman')\n"
     ]
    },
    {
     "data": {
      "text/html": [
       "<div>\n",
       "<style scoped>\n",
       "    .dataframe tbody tr th:only-of-type {\n",
       "        vertical-align: middle;\n",
       "    }\n",
       "\n",
       "    .dataframe tbody tr th {\n",
       "        vertical-align: top;\n",
       "    }\n",
       "\n",
       "    .dataframe thead th {\n",
       "        text-align: right;\n",
       "    }\n",
       "</style>\n",
       "<table border=\"1\" class=\"dataframe\">\n",
       "  <thead>\n",
       "    <tr style=\"text-align: right;\">\n",
       "      <th></th>\n",
       "      <th>stars</th>\n",
       "      <th>neg</th>\n",
       "      <th>neu</th>\n",
       "      <th>pos</th>\n",
       "      <th>compound</th>\n",
       "    </tr>\n",
       "  </thead>\n",
       "  <tbody>\n",
       "    <tr>\n",
       "      <th>stars</th>\n",
       "      <td>1.000000</td>\n",
       "      <td>-0.499667</td>\n",
       "      <td>-0.376964</td>\n",
       "      <td>0.575483</td>\n",
       "      <td>0.480396</td>\n",
       "    </tr>\n",
       "    <tr>\n",
       "      <th>neg</th>\n",
       "      <td>-0.499667</td>\n",
       "      <td>1.000000</td>\n",
       "      <td>0.170245</td>\n",
       "      <td>-0.549792</td>\n",
       "      <td>-0.437022</td>\n",
       "    </tr>\n",
       "    <tr>\n",
       "      <th>neu</th>\n",
       "      <td>-0.376964</td>\n",
       "      <td>0.170245</td>\n",
       "      <td>1.000000</td>\n",
       "      <td>-0.875042</td>\n",
       "      <td>-0.373751</td>\n",
       "    </tr>\n",
       "    <tr>\n",
       "      <th>pos</th>\n",
       "      <td>0.575483</td>\n",
       "      <td>-0.549792</td>\n",
       "      <td>-0.875042</td>\n",
       "      <td>1.000000</td>\n",
       "      <td>0.587585</td>\n",
       "    </tr>\n",
       "    <tr>\n",
       "      <th>compound</th>\n",
       "      <td>0.480396</td>\n",
       "      <td>-0.437022</td>\n",
       "      <td>-0.373751</td>\n",
       "      <td>0.587585</td>\n",
       "      <td>1.000000</td>\n",
       "    </tr>\n",
       "  </tbody>\n",
       "</table>\n",
       "</div>"
      ],
      "text/plain": [
       "             stars       neg       neu       pos  compound\n",
       "stars     1.000000 -0.499667 -0.376964  0.575483  0.480396\n",
       "neg      -0.499667  1.000000  0.170245 -0.549792 -0.437022\n",
       "neu      -0.376964  0.170245  1.000000 -0.875042 -0.373751\n",
       "pos       0.575483 -0.549792 -0.875042  1.000000  0.587585\n",
       "compound  0.480396 -0.437022 -0.373751  0.587585  1.000000"
      ]
     },
     "execution_count": 39,
     "metadata": {},
     "output_type": "execute_result"
    }
   ],
   "source": [
    "# calculate spearmans rank correlation coefficient\n",
    "df.corr(method='spearman')\n"
   ]
  },
  {
   "cell_type": "code",
   "execution_count": 40,
   "metadata": {},
   "outputs": [],
   "source": [
    "import pandas as pd\n",
    "from sklearn.utils import resample\n",
    "\n",
    "# Load your DataFrame 'df' here\n",
    "\n",
    "# Calculate the number of samples you want to keep for the more frequent classes.\n",
    "# For example, if you want to keep the same number of samples as class 2 (least frequent):\n",
    "n_samples = df['stars'].value_counts()[2.0]\n",
    "\n",
    "# Perform undersampling\n",
    "df_1 = resample(df[df['stars'] == 1.0], replace=False, n_samples=n_samples, random_state=42)\n",
    "df_2 = df[df['stars'] == 2.0]\n",
    "df_3 = df[df['stars'] == 3.0]\n",
    "df_4 = resample(df[df['stars'] == 4.0], replace=False, n_samples=n_samples, random_state=42)\n",
    "df_5 = resample(df[df['stars'] == 5.0], replace=False, n_samples=n_samples, random_state=42)\n",
    "\n",
    "# Combine the resampled subsets and shuffle the resulting DataFrame\n",
    "df_resampled = pd.concat([df_1, df_2, df_3, df_4, df_5])\n",
    "df_resampled = df_resampled.sample(frac=1, random_state=42).reset_index(drop=True)\n"
   ]
  },
  {
   "cell_type": "code",
   "execution_count": 41,
   "metadata": {},
   "outputs": [
    {
     "name": "stdout",
     "output_type": "stream",
     "text": [
      "Optimization terminated successfully.\n",
      "         Current function value: 1.310046\n",
      "         Iterations: 648\n",
      "         Function evaluations: 993\n"
     ]
    },
    {
     "data": {
      "text/html": [
       "<table class=\"simpletable\">\n",
       "<caption>OrderedModel Results</caption>\n",
       "<tr>\n",
       "  <th>Dep. Variable:</th>           <td>stars</td>       <th>  Log-Likelihood:    </th> <td>-1.6000e+05</td>\n",
       "</tr>\n",
       "<tr>\n",
       "  <th>Model:</th>               <td>OrderedModel</td>    <th>  AIC:               </th>  <td>3.200e+05</td> \n",
       "</tr>\n",
       "<tr>\n",
       "  <th>Method:</th>           <td>Maximum Likelihood</td> <th>  BIC:               </th>  <td>3.201e+05</td> \n",
       "</tr>\n",
       "<tr>\n",
       "  <th>Date:</th>              <td>Sat, 25 Mar 2023</td>  <th>                     </th>      <td> </td>     \n",
       "</tr>\n",
       "<tr>\n",
       "  <th>Time:</th>                  <td>11:10:49</td>      <th>                     </th>      <td> </td>     \n",
       "</tr>\n",
       "<tr>\n",
       "  <th>No. Observations:</th>       <td>122131</td>       <th>                     </th>      <td> </td>     \n",
       "</tr>\n",
       "<tr>\n",
       "  <th>Df Residuals:</th>           <td>122125</td>       <th>                     </th>      <td> </td>     \n",
       "</tr>\n",
       "<tr>\n",
       "  <th>Df Model:</th>               <td>     6</td>       <th>                     </th>      <td> </td>     \n",
       "</tr>\n",
       "</table>\n",
       "<table class=\"simpletable\">\n",
       "<tr>\n",
       "     <td></td>        <th>coef</th>     <th>std err</th>      <th>z</th>      <th>P>|z|</th>  <th>[0.025</th>    <th>0.975]</th>  \n",
       "</tr>\n",
       "<tr>\n",
       "  <th>neg</th>     <td>   -7.2596</td> <td>    0.062</td> <td> -117.308</td> <td> 0.000</td> <td>   -7.381</td> <td>   -7.138</td>\n",
       "</tr>\n",
       "<tr>\n",
       "  <th>pos</th>     <td>    6.1243</td> <td>    0.035</td> <td>  174.264</td> <td> 0.000</td> <td>    6.055</td> <td>    6.193</td>\n",
       "</tr>\n",
       "<tr>\n",
       "  <th>1.0/2.0</th> <td>   -0.6392</td> <td>    0.009</td> <td>  -71.375</td> <td> 0.000</td> <td>   -0.657</td> <td>   -0.622</td>\n",
       "</tr>\n",
       "<tr>\n",
       "  <th>2.0/3.0</th> <td>   -0.2124</td> <td>    0.006</td> <td>  -36.426</td> <td> 0.000</td> <td>   -0.224</td> <td>   -0.201</td>\n",
       "</tr>\n",
       "<tr>\n",
       "  <th>3.0/4.0</th> <td>   -0.1168</td> <td>    0.005</td> <td>  -22.348</td> <td> 0.000</td> <td>   -0.127</td> <td>   -0.107</td>\n",
       "</tr>\n",
       "<tr>\n",
       "  <th>4.0/5.0</th> <td>   -0.2148</td> <td>    0.006</td> <td>  -36.757</td> <td> 0.000</td> <td>   -0.226</td> <td>   -0.203</td>\n",
       "</tr>\n",
       "</table>"
      ],
      "text/plain": [
       "<class 'statsmodels.iolib.summary.Summary'>\n",
       "\"\"\"\n",
       "                             OrderedModel Results                             \n",
       "==============================================================================\n",
       "Dep. Variable:                  stars   Log-Likelihood:            -1.6000e+05\n",
       "Model:                   OrderedModel   AIC:                         3.200e+05\n",
       "Method:            Maximum Likelihood   BIC:                         3.201e+05\n",
       "Date:                Sat, 25 Mar 2023                                         \n",
       "Time:                        11:10:49                                         \n",
       "No. Observations:              122131                                         \n",
       "Df Residuals:                  122125                                         \n",
       "Df Model:                           6                                         \n",
       "==============================================================================\n",
       "                 coef    std err          z      P>|z|      [0.025      0.975]\n",
       "------------------------------------------------------------------------------\n",
       "neg           -7.2596      0.062   -117.308      0.000      -7.381      -7.138\n",
       "pos            6.1243      0.035    174.264      0.000       6.055       6.193\n",
       "1.0/2.0       -0.6392      0.009    -71.375      0.000      -0.657      -0.622\n",
       "2.0/3.0       -0.2124      0.006    -36.426      0.000      -0.224      -0.201\n",
       "3.0/4.0       -0.1168      0.005    -22.348      0.000      -0.127      -0.107\n",
       "4.0/5.0       -0.2148      0.006    -36.757      0.000      -0.226      -0.203\n",
       "==============================================================================\n",
       "\"\"\""
      ]
     },
     "execution_count": 41,
     "metadata": {},
     "output_type": "execute_result"
    }
   ],
   "source": [
    "# Multinomial logistic regression in statsmodels\n",
    "import statsmodels.api as sm\n",
    "import statsmodels.miscmodels.ordinal_model as om\n",
    "\n",
    "# Fit the ordered model to regress positive and negative sentiment against the star rating\n",
    "model = om.OrderedModel(df_resampled['stars'], df_resampled[['neg', 'pos']])\n",
    "result = model.fit(maxiter=10000)\n",
    "result.summary()"
   ]
  },
  {
   "cell_type": "code",
   "execution_count": 42,
   "metadata": {},
   "outputs": [
    {
     "data": {
      "text/html": [
       "<div>\n",
       "<style scoped>\n",
       "    .dataframe tbody tr th:only-of-type {\n",
       "        vertical-align: middle;\n",
       "    }\n",
       "\n",
       "    .dataframe tbody tr th {\n",
       "        vertical-align: top;\n",
       "    }\n",
       "\n",
       "    .dataframe thead th {\n",
       "        text-align: right;\n",
       "    }\n",
       "</style>\n",
       "<table border=\"1\" class=\"dataframe\">\n",
       "  <thead>\n",
       "    <tr style=\"text-align: right;\">\n",
       "      <th></th>\n",
       "      <th>0</th>\n",
       "      <th>1</th>\n",
       "      <th>2</th>\n",
       "      <th>3</th>\n",
       "      <th>4</th>\n",
       "    </tr>\n",
       "  </thead>\n",
       "  <tbody>\n",
       "    <tr>\n",
       "      <th>None</th>\n",
       "      <td>0.523235</td>\n",
       "      <td>0.283781</td>\n",
       "      <td>0.153502</td>\n",
       "      <td>0.0343</td>\n",
       "      <td>0.005182</td>\n",
       "    </tr>\n",
       "  </tbody>\n",
       "</table>\n",
       "</div>"
      ],
      "text/plain": [
       "             0         1         2       3         4\n",
       "None  0.523235  0.283781  0.153502  0.0343  0.005182"
      ]
     },
     "execution_count": 42,
     "metadata": {},
     "output_type": "execute_result"
    }
   ],
   "source": [
    "result.predict(df[['neg', 'pos']].loc[0])"
   ]
  },
  {
   "cell_type": "code",
   "execution_count": 43,
   "metadata": {},
   "outputs": [
    {
     "name": "stdout",
     "output_type": "stream",
     "text": [
      "Accuracy: 0.4093391522217946\n",
      "Star rating 1: Precision = 0.532, Recall = 0.581, F1 score = 0.555\n",
      "Star rating 2: Precision = 0.341, Recall = 0.155, F1 score = 0.214\n",
      "Star rating 3: Precision = 0.331, Recall = 0.602, F1 score = 0.427\n",
      "Star rating 4: Precision = 0.350, Recall = 0.121, F1 score = 0.180\n",
      "Star rating 5: Precision = 0.495, Recall = 0.541, F1 score = 0.517\n",
      "Weighted F1 score: 0.3808880264272912\n"
     ]
    }
   ],
   "source": [
    "from sklearn.metrics import accuracy_score, precision_score, recall_score, f1_score, confusion_matrix\n",
    "\n",
    "# Predict the class labels\n",
    "y_pred = result.predict().argmax(axis=1) + 1\n",
    "\n",
    "# Calculate accuracy\n",
    "accuracy = accuracy_score(df_resampled['stars'], y_pred)\n",
    "print(f\"Accuracy: {accuracy}\")\n",
    "\n",
    "# Calculate precision, recall, and F1 score for each class (star rating)\n",
    "precision = precision_score(df_resampled['stars'], y_pred, average=None, zero_division=0)\n",
    "recall = recall_score(df_resampled['stars'], y_pred, average=None)\n",
    "f1 = f1_score(df_resampled['stars'], y_pred, average=None)\n",
    "\n",
    "# Print the results\n",
    "for i, (p, r, f) in enumerate(zip(precision, recall, f1), start=1):\n",
    "    print(f\"Star rating {i}: Precision = {p:.3f}, Recall = {r:.3f}, F1 score = {f:.3f}\")\n",
    "\n",
    "weighted_f1 = f1_score(df_resampled['stars'], y_pred, average='weighted')\n",
    "print(f\"Weighted F1 score: {weighted_f1}\")"
   ]
  }
 ],
 "metadata": {
  "kernelspec": {
   "display_name": "Python 3",
   "language": "python",
   "name": "python3"
  },
  "language_info": {
   "codemirror_mode": {
    "name": "ipython",
    "version": 3
   },
   "file_extension": ".py",
   "mimetype": "text/x-python",
   "name": "python",
   "nbconvert_exporter": "python",
   "pygments_lexer": "ipython3",
   "version": "3.8.2"
  },
  "orig_nbformat": 4
 },
 "nbformat": 4,
 "nbformat_minor": 2
}
